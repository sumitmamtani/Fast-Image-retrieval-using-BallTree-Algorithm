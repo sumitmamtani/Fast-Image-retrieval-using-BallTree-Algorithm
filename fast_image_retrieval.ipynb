{
 "cells": [
  {
   "cell_type": "code",
   "execution_count": 40,
   "metadata": {},
   "outputs": [],
   "source": [
    "import numpy as np \n",
    "from matplotlib import pyplot as plt \n",
    "from sklearn.cluster import KMeans\n",
    "from sklearn.datasets import make_blobs \n",
    "import os\n",
    "import cv2 \n",
    "from sklearn.neighbors import BallTree\n",
    "from sklearn.neighbors import NearestNeighbors\n",
    "from scipy.spatial import distance"
   ]
  },
  {
   "cell_type": "markdown",
   "metadata": {},
   "source": [
    "## surf feature descriptors for images kept in rootDir"
   ]
  },
  {
   "cell_type": "code",
   "execution_count": 41,
   "metadata": {},
   "outputs": [],
   "source": [
    "rootDir='./images/' # give the path of folder which contains images\n",
    "\n",
    "list_of_features=[]\n",
    "for dirName, subdirList, fileList in os.walk(rootDir):\n",
    "    for fname in fileList:\n",
    "        image = cv2.imread(rootDir+fname)\n",
    "        gray = cv2.cvtColor(image, cv2.COLOR_BGR2GRAY)\n",
    "        surf = cv2.xfeatures2d.SURF_create()\n",
    "        (kps, descs) = surf.detectAndCompute(gray, None)\n",
    "        \n",
    "        for i in range(0,len(descs)):\n",
    "            list_of_features.append(descs[i])"
   ]
  },
  {
   "cell_type": "code",
   "execution_count": 42,
   "metadata": {
    "scrolled": true
   },
   "outputs": [
    {
     "name": "stdout",
     "output_type": "stream",
     "text": [
      "64\n"
     ]
    }
   ],
   "source": [
    "print(len(list_of_features[0]))"
   ]
  },
  {
   "cell_type": "markdown",
   "metadata": {},
   "source": [
    "## kmeans clustering "
   ]
  },
  {
   "cell_type": "code",
   "execution_count": 43,
   "metadata": {},
   "outputs": [
    {
     "data": {
      "text/plain": [
       "KMeans(algorithm='auto', copy_x=True, init='k-means++', max_iter=1000,\n",
       "    n_clusters=128, n_init=10, n_jobs=1, precompute_distances='auto',\n",
       "    random_state=0, tol=1e-06, verbose=0)"
      ]
     },
     "execution_count": 43,
     "metadata": {},
     "output_type": "execute_result"
    }
   ],
   "source": [
    "list_of_features=np.asarray(list_of_features)\n",
    "n_clusters = 128;\n",
    "ret =  KMeans(n_clusters = n_clusters,random_state=0,max_iter=1000,tol=0.000001)\n",
    "ret.fit(list_of_features)\n",
    "\n"
   ]
  },
  {
   "cell_type": "code",
   "execution_count": 44,
   "metadata": {
    "scrolled": true
   },
   "outputs": [
    {
     "name": "stdout",
     "output_type": "stream",
     "text": [
      "[-2.83567677e-03 -1.37770479e-03  4.87155840e-03  2.74285022e-03\n",
      "  3.22117843e-03 -1.07750930e-02  2.46662479e-02  1.73719563e-02\n",
      "  5.31249046e-02 -6.44174078e-03  7.07725286e-02  3.75084728e-02\n",
      " -2.52410769e-03  1.58289960e-03  5.56176808e-03  3.41248768e-03\n",
      " -1.79791600e-02 -7.23057892e-03  2.48872489e-02  1.55861275e-02\n",
      " -8.52647424e-03 -8.60666391e-03  8.17057490e-02  6.76196516e-02\n",
      "  4.58290637e-01 -3.49903181e-02  5.36710680e-01  1.60641387e-01\n",
      " -1.98856052e-02 -9.53910314e-03  3.82402502e-02  2.43780650e-02\n",
      " -8.09153821e-03  7.02414103e-03  2.18066704e-02  1.58510488e-02\n",
      "  2.75222138e-02  8.02217200e-02  1.15207419e-01  1.28969520e-01\n",
      "  2.78370559e-01 -5.45306467e-02  4.10054117e-01  2.67193794e-01\n",
      " -4.19792160e-03 -1.98711045e-02  4.35161442e-02  3.90344411e-02\n",
      " -1.14251464e-03  8.25572875e-04  3.63575877e-03  4.64881770e-03\n",
      " -4.54118475e-04  7.87001103e-03  2.57906634e-02  4.04500812e-02\n",
      "  1.56342685e-02  1.99487619e-02  3.18058059e-02  3.74261290e-02\n",
      "  1.18869601e-03 -2.17909241e-04  4.87483153e-03  4.45655175e-03]\n"
     ]
    }
   ],
   "source": [
    "print ((ret.cluster_centers_)[0])"
   ]
  },
  {
   "cell_type": "code",
   "execution_count": 45,
   "metadata": {},
   "outputs": [
    {
     "name": "stdout",
     "output_type": "stream",
     "text": [
      "dog.jpeg\n",
      "man.jpg\n",
      "woman.jpg\n",
      "lion.jpeg\n",
      "elephant.jpeg\n"
     ]
    }
   ],
   "source": [
    "histogram_per_image=[]\n",
    "my_dict = {}\n",
    "count=0\n",
    "\n",
    "for dirName, subdirList, fileList in os.walk(rootDir):\n",
    "    for fname in fileList:\n",
    "        my_dict[fname]=count\n",
    "        count+=1\n",
    "        print(fname)\n",
    "        image = cv2.imread(rootDir+fname)\n",
    "        gray = cv2.cvtColor(image, cv2.COLOR_BGR2GRAY)\n",
    "        surf = cv2.xfeatures2d.SURF_create()\n",
    "        (kps, descs) = surf.detectAndCompute(gray, None)\n",
    "        histogram = np.zeros(n_clusters)\n",
    "        for i in range(0,len(descs)):\n",
    "            mi=1000000000\n",
    "            t=0\n",
    "            for j in range(0,len(ret.cluster_centers_)):\n",
    "                dist = np.linalg.norm(descs[i]-ret.cluster_centers_[j])\n",
    "                \n",
    "\n",
    "                if(mi>=dist):\n",
    "                    mi=dist\n",
    "                    t=j\n",
    "            histogram[t]+=1\n",
    "\n",
    "        histogram_per_image.append(histogram)\n",
    "\n"
   ]
  },
  {
   "cell_type": "code",
   "execution_count": 46,
   "metadata": {},
   "outputs": [
    {
     "name": "stdout",
     "output_type": "stream",
     "text": [
      "[0. 0. 0. 0. 0. 0. 0. 0. 0. 0. 0. 0. 0. 0. 0. 0. 0. 0. 0. 0. 0. 0. 0. 0.\n",
      " 0. 0. 0. 0. 0. 0. 0. 0. 0. 0. 0. 0. 0. 0. 0. 0. 0. 0. 0. 0. 0. 0. 0. 0.\n",
      " 0. 0. 0. 0. 0. 0. 0. 0. 0. 0. 0. 0. 0. 0. 0. 0. 0. 0. 0. 0. 0. 0. 0. 0.\n",
      " 0. 0. 0. 0. 0. 0. 0. 0. 0. 0. 0. 0. 0. 0. 0. 0. 0. 0. 0. 0. 0. 0. 0. 0.\n",
      " 0. 0. 0. 0. 0. 0. 0. 0. 0. 0. 0. 0. 0. 0. 0. 0. 0. 0. 0. 0. 0. 0. 0. 0.\n",
      " 0. 0. 0. 0. 0. 0. 0. 0.]\n"
     ]
    }
   ],
   "source": [
    "hist=[]\n",
    "test_image='lion4.png'\n",
    "image = cv2.imread(test_image)\n",
    "gray = cv2.cvtColor(image, cv2.COLOR_BGR2GRAY)\n",
    "surf = cv2.xfeatures2d.SURF_create()\n",
    "(kps, descs) = surf.detectAndCompute(gray, None)\n",
    "histogram = np.zeros(n_clusters)\n",
    "print(histogram)\n",
    "for i in range(0,len(descs)):\n",
    "    mi=100000000\n",
    "    t=0\n",
    "    for j in range(0,len(ret.cluster_centers_)):\n",
    "        dist = np.linalg.norm(descs[i]-ret.cluster_centers_[j])\n",
    "\n",
    "        \n",
    "        if(mi>=dist):\n",
    "            mi=dist\n",
    "            t=j\n",
    "    histogram[t]+=1\n",
    "\n",
    "hist.append(histogram)"
   ]
  },
  {
   "cell_type": "markdown",
   "metadata": {},
   "source": [
    "## ballTree algo for fast and exact nearest neighbour search"
   ]
  },
  {
   "cell_type": "code",
   "execution_count": 48,
   "metadata": {},
   "outputs": [
    {
     "name": "stdout",
     "output_type": "stream",
     "text": [
      "[[3 0]]\n",
      "[[87.59566199 92.09777413]]\n",
      "lion.jpeg\n"
     ]
    }
   ],
   "source": [
    "\n",
    "tree = BallTree(histogram_per_image)  \n",
    "dist, ind = tree.query(hist, k=2)\n",
    "print(ind)\n",
    "print(dist)\n",
    "for k in my_dict.keys():\n",
    "    if my_dict[k]==ind[0][0]:\n",
    "        print(k)\n",
    "        break"
   ]
  }
 ],
 "metadata": {
  "kernelspec": {
   "display_name": "Python 3",
   "language": "python",
   "name": "python3"
  },
  "language_info": {
   "codemirror_mode": {
    "name": "ipython",
    "version": 3
   },
   "file_extension": ".py",
   "mimetype": "text/x-python",
   "name": "python",
   "nbconvert_exporter": "python",
   "pygments_lexer": "ipython3",
   "version": "3.5.2"
  }
 },
 "nbformat": 4,
 "nbformat_minor": 2
}
